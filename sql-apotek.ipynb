{
 "cells": [
  {
   "cell_type": "code",
   "execution_count": 1,
   "metadata": {},
   "outputs": [],
   "source": [
    "# tambahkan modul disini\n",
    "import mysql.connector"
   ]
  },
  {
   "cell_type": "code",
   "execution_count": 56,
   "metadata": {},
   "outputs": [],
   "source": [
    "# sambungkan ke database server\n",
    "db = mysql.connector.connect(\n",
    "    host = 'localhost',\n",
    "    user = 'root',\n",
    "    password = ''\n",
    ")\n",
    "\n",
    "dbCursor = db.cursor()\n"
   ]
  },
  {
   "cell_type": "code",
   "execution_count": 59,
   "metadata": {},
   "outputs": [],
   "source": [
    "# pilih database dbapotek\n",
    "dbCursor.execute('USE dbapotek')"
   ]
  },
  {
   "cell_type": "code",
   "execution_count": 32,
   "metadata": {},
   "outputs": [
    {
     "name": "stdout",
     "output_type": "stream",
     "text": [
      "tambah tabel golongan obat\n",
      "tambah tabel obat\n"
     ]
    }
   ],
   "source": [
    "# buat tabel-tabel pada database\n",
    "dbCursor.execute(\n",
    "    '''CREATE TABLE GolonganObat (\n",
    "        Id INT(11) NOT NULL AUTO_INCREMENT,\n",
    "        Golongan VARCHAR(255) NOT NULL,\n",
    "        PRIMARY KEY (Id));'''\n",
    ")\n",
    "\n",
    "print('tambah tabel golongan obat')\n",
    "\n",
    "dbCursor.execute(\n",
    "    ''' CREATE TABLE Obat (\n",
    "        Id INT(11) NOT NULL AUTO_INCREMENT,\n",
    "        NamaObat VARCHAR(255) NULL,\n",
    "        GolonganId INT(11) NULL,\n",
    "        Harga INT(11) NULL,\n",
    "        PRIMARY KEY (Id),\n",
    "        FOREIGN KEY (GolonganId) REFERENCES GolonganObat(Id))'''\n",
    ")\n",
    "\n",
    "print('tambah tabel obat')"
   ]
  },
  {
   "cell_type": "code",
   "execution_count": 48,
   "metadata": {},
   "outputs": [
    {
     "name": "stdout",
     "output_type": "stream",
     "text": [
      "4 telah ditambahkan ke golongan obat.\n"
     ]
    }
   ],
   "source": [
    "# tambah data golongan obat\n",
    "sql = (\"\"\"INSERT INTO GolonganObat (Golongan) VALUES ('Obat bebas'), ('Obat bebas terbatas'), ('Obat keras'), ('Narkotika')\"\"\")\n",
    "\n",
    "dbCursor.execute(sql)\n",
    "db.commit()\n",
    "\n",
    "print(dbCursor.rowcount, \"telah ditambahkan ke golongan obat.\")"
   ]
  },
  {
   "cell_type": "code",
   "execution_count": 67,
   "metadata": {},
   "outputs": [
    {
     "name": "stdout",
     "output_type": "stream",
     "text": [
      "['Id', 'Golongan']\n",
      "(16, 'Obat bebas')\n",
      "(17, 'Obat bebas terbatas')\n",
      "(18, 'Obat keras')\n",
      "(19, 'Narkotika')\n"
     ]
    }
   ],
   "source": [
    "# lihat data golongan obat\n",
    "dbCursor.execute('SELECT * FROM GolonganObat')\n",
    "numColumn = len(dbCursor.description)\n",
    "nameColumn = [i[0] for i in dbCursor.description]\n",
    "\n",
    "print(nameColumn)\n",
    "myresult = dbCursor.fetchall()\n",
    "for x in myresult:\n",
    "  print(x)"
   ]
  },
  {
   "cell_type": "code",
   "execution_count": 68,
   "metadata": {},
   "outputs": [
    {
     "name": "stdout",
     "output_type": "stream",
     "text": [
      "3 telah ditambahkan ke obat.\n"
     ]
    }
   ],
   "source": [
    "# tambah data golongan obat\n",
    "sql = (\"\"\"INSERT INTO Obat (NamaObat, GolonganId, Harga) VALUES ('Rifampisin', 18, 4000), ('Bodrex', 16, 1500), ('Antimo', 16, 1000)\"\"\")\n",
    "\n",
    "dbCursor.execute(sql)\n",
    "db.commit()\n",
    "\n",
    "print(dbCursor.rowcount, \"telah ditambahkan ke obat.\")"
   ]
  },
  {
   "cell_type": "code",
   "execution_count": 69,
   "metadata": {},
   "outputs": [
    {
     "name": "stdout",
     "output_type": "stream",
     "text": [
      "['Id', 'NamaObat', 'GolonganId', 'Harga']\n",
      "(1, 'Rifampisin', 18, 4000)\n",
      "(2, 'Bodrex', 16, 1500)\n",
      "(3, 'Antimo', 16, 1000)\n"
     ]
    }
   ],
   "source": [
    "# lihat data golongan obat\n",
    "dbCursor.execute('SELECT * FROM Obat')\n",
    "numColumn = len(dbCursor.description)\n",
    "nameColumn = [i[0] for i in dbCursor.description]\n",
    "\n",
    "print(nameColumn)\n",
    "myresult = dbCursor.fetchall()\n",
    "for x in myresult:\n",
    "  print(x)"
   ]
  }
 ],
 "metadata": {
  "kernelspec": {
   "display_name": "Python 3",
   "language": "python",
   "name": "python3"
  },
  "language_info": {
   "codemirror_mode": {
    "name": "ipython",
    "version": 3
   },
   "file_extension": ".py",
   "mimetype": "text/x-python",
   "name": "python",
   "nbconvert_exporter": "python",
   "pygments_lexer": "ipython3",
   "version": "3.8.7"
  }
 },
 "nbformat": 4,
 "nbformat_minor": 2
}
